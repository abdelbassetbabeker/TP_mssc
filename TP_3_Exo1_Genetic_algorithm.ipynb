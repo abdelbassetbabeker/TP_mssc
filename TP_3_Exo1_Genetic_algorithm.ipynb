{
 "cells": [
  {
   "cell_type": "code",
   "execution_count": 170,
   "id": "a6bcd1d6",
   "metadata": {},
   "outputs": [],
   "source": [
    "import numpy as np"
   ]
  },
  {
   "cell_type": "code",
   "execution_count": 171,
   "id": "4770989b",
   "metadata": {},
   "outputs": [],
   "source": [
    "def bin_to_dec(_bin):   \n",
    "    return int(_bin, 2)"
   ]
  },
  {
   "cell_type": "code",
   "execution_count": 172,
   "id": "6dafb874",
   "metadata": {},
   "outputs": [],
   "source": [
    "def fitness(chromosome):\n",
    "    joined_bits = ''.join(map(str, chromosome[:5]))\n",
    "    x = bin_to_dec(joined_bits)\n",
    "    chromosome[-1]=31*x - x**2\n",
    "    return chromosome"
   ]
  },
  {
   "cell_type": "code",
   "execution_count": 173,
   "id": "927a3a26",
   "metadata": {},
   "outputs": [],
   "source": [
    "def selection(_Pop):\n",
    "    winners = []\n",
    "    for i in range(2):\n",
    "        index1 = np.random.randint(len(_Pop))\n",
    "        index2 = np.random.randint(len(_Pop))\n",
    "        fitness1 = fitness(_Pop[index1])\n",
    "        fitness2 = fitness(_Pop[index2])\n",
    "        if fitness1[-1] > fitness2[-1]:\n",
    "            winners.append(fitness1)\n",
    "        else:\n",
    "            winners.append(fitness2)\n",
    "    return np.array(winners)"
   ]
  },
  {
   "cell_type": "code",
   "execution_count": 247,
   "id": "72c16c12",
   "metadata": {},
   "outputs": [],
   "source": [
    "def crossover(_Pop, prob_cr):\n",
    "    if np.random.rand() > prob_cr:\n",
    "        crossover_result = []\n",
    "        origine1, origine2 = _Pop[0], _Pop[1]\n",
    "        crossover_result.append(fitness(origine1))\n",
    "        crossover_result.append(fitness(origine2))\n",
    "        \n",
    "        point_cross = np.random.randint(0, len(origine1))\n",
    "        chromosom1 = np.concatenate((origine1[:point_cross],origine2[point_cross:]))\n",
    "        chromosom2 = np.concatenate((origine2[:point_cross],origine1[point_cross:]))\n",
    "        crossover_result.append(fitness(chromosom1))\n",
    "        crossover_result.append(fitness(chromosom2))\n",
    "        return np.array(crossover_result)\n",
    "    else: \n",
    "        return _Pop"
   ]
  },
  {
   "cell_type": "code",
   "execution_count": 279,
   "id": "4d290138",
   "metadata": {},
   "outputs": [],
   "source": [
    "def mutation(_Pop, prob_mutation):\n",
    "    if np.random.rand() > prob_mutation: \n",
    "        random_chrom = np.random.randint(0, len(_Pop))\n",
    "        new_chrom = _Pop[random_chrom]\n",
    "        random_index = np.random.randint(0, len(_Pop[0])-1)\n",
    "        new_chrom[random_index]= 1 - _Pop[random_chrom][random_index]\n",
    "        return np.vstack([_Pop, fitness(new_chrom)])\n",
    "    else:\n",
    "        return _Pop\n"
   ]
  },
  {
   "cell_type": "code",
   "execution_count": 459,
   "id": "62290530",
   "metadata": {},
   "outputs": [],
   "source": [
    "def genetic_algorithm():\n",
    "    N_pop = 25\n",
    "    n_bits = 6\n",
    "    \n",
    "    initial_Pop = np.random.randint(2, size=(N_pop, n_bits))\n",
    "    \n",
    "    ini = np.empty((0,n_bits),dtype=int)\n",
    "    for i in initial_Pop:\n",
    "        ini = np.vstack([ini, fitness(i)])\n",
    "    print(initial_Pop)\n",
    "\n",
    "    evalouted_pop = initial_Pop\n",
    "    \n",
    "    prob_cr = 0.5\n",
    "    prob_mutation = 0.07\n",
    "\n",
    "    max_gen = 100\n",
    "    \n",
    "    for i in range(0,max_gen):\n",
    "        temp_Pop = np.empty((0,n_bits),dtype=int)\n",
    "\n",
    "        while(len(temp_Pop) <= N_pop):\n",
    "            _selection = selection(evalouted_pop)\n",
    "            _crossover = crossover(_selection,prob_cr)\n",
    "            _mutation = mutation(_crossover,prob_mutation)\n",
    "            temp_Pop = np.vstack([temp_Pop, _mutation])\n",
    "        evalouted_pop = temp_Pop\n",
    "    \n",
    "    return evalouted_pop\n",
    "        "
   ]
  },
  {
   "cell_type": "code",
   "execution_count": 470,
   "id": "4f900d63",
   "metadata": {},
   "outputs": [
    {
     "name": "stdout",
     "output_type": "stream",
     "text": [
      "[[  1   1   1   1   1   0]\n",
      " [  0   1   1   1   1 240]\n",
      " [  0   0   0   0   1  30]\n",
      " [  0   0   0   1   1  84]\n",
      " [  1   0   1   1   0 198]\n",
      " [  1   1   0   0   1 150]\n",
      " [  0   0   0   1   0  58]\n",
      " [  0   0   1   0   0 108]\n",
      " [  0   1   0   0   1 198]\n",
      " [  0   0   1   0   0 108]\n",
      " [  0   0   0   0   0   0]\n",
      " [  1   1   1   1   0  30]\n",
      " [  1   1   0   1   0 130]\n",
      " [  1   0   0   1   0 234]\n",
      " [  1   1   0   0   0 168]\n",
      " [  1   0   1   1   0 198]\n",
      " [  0   1   1   1   1 240]\n",
      " [  0   0   0   0   0   0]\n",
      " [  1   0   1   0   0 220]\n",
      " [  1   0   1   1   1 184]\n",
      " [  0   1   1   1   0 238]\n",
      " [  1   0   1   1   1 184]\n",
      " [  1   0   1   1   0 198]\n",
      " [  0   1   1   1   1 240]\n",
      " [  0   1   0   0   1 198]]\n",
      "the last generation is \n",
      "\n"
     ]
    },
    {
     "data": {
      "text/plain": [
       "array([[  0,   1,   1,   1,   1, 240],\n",
       "       [  0,   1,   1,   1,   1, 240],\n",
       "       [  0,   1,   1,   1,   1, 240],\n",
       "       [  0,   1,   1,   1,   1, 240],\n",
       "       [  0,   1,   1,   1,   1, 240],\n",
       "       [  0,   1,   1,   1,   1, 240],\n",
       "       [  0,   1,   1,   1,   1, 240],\n",
       "       [  0,   1,   1,   1,   1, 240],\n",
       "       [  0,   1,   1,   1,   1, 240],\n",
       "       [  0,   1,   1,   1,   1, 240],\n",
       "       [  0,   1,   1,   1,   1, 240],\n",
       "       [  0,   1,   1,   1,   1, 240],\n",
       "       [  0,   1,   1,   1,   1, 240],\n",
       "       [  0,   1,   1,   1,   1, 240],\n",
       "       [  0,   1,   1,   1,   0, 238],\n",
       "       [  0,   1,   1,   1,   0, 238],\n",
       "       [  0,   1,   1,   1,   0, 238],\n",
       "       [  0,   1,   1,   1,   0, 238],\n",
       "       [  0,   1,   1,   0,   1, 234],\n",
       "       [  0,   1,   1,   0,   1, 234],\n",
       "       [  0,   1,   0,   1,   1, 220],\n",
       "       [  0,   0,   1,   1,   1, 168],\n",
       "       [  0,   0,   1,   1,   1, 168],\n",
       "       [  0,   0,   1,   1,   1, 168],\n",
       "       [  0,   0,   1,   1,   1, 168],\n",
       "       [  1,   1,   0,   1,   1, 108],\n",
       "       [  1,   1,   0,   1,   1, 108],\n",
       "       [  1,   1,   1,   1,   1,   0],\n",
       "       [  1,   1,   1,   1,   1,   0]])"
      ]
     },
     "execution_count": 470,
     "metadata": {},
     "output_type": "execute_result"
    }
   ],
   "source": [
    "Soultion = genetic_algorithm()\n",
    "\n",
    "print(\"the last generation is \")\n",
    "print(\"\")\n",
    "\n",
    "last_col = Soultion[:,-1]\n",
    "sorted_indices = np.argsort(last_col)[::-1]\n",
    "\n",
    "sorted_matrix = Soultion[sorted_indices]\n",
    "sorted_matrix"
   ]
  },
  {
   "cell_type": "code",
   "execution_count": null,
   "id": "deb55501",
   "metadata": {},
   "outputs": [],
   "source": []
  },
  {
   "cell_type": "code",
   "execution_count": null,
   "id": "d4ddbd68",
   "metadata": {},
   "outputs": [],
   "source": []
  },
  {
   "cell_type": "code",
   "execution_count": null,
   "id": "cfb55c32",
   "metadata": {},
   "outputs": [],
   "source": []
  },
  {
   "cell_type": "code",
   "execution_count": null,
   "id": "cad14bb1",
   "metadata": {},
   "outputs": [],
   "source": []
  }
 ],
 "metadata": {
  "kernelspec": {
   "display_name": "Python 3 (ipykernel)",
   "language": "python",
   "name": "python3"
  },
  "language_info": {
   "codemirror_mode": {
    "name": "ipython",
    "version": 3
   },
   "file_extension": ".py",
   "mimetype": "text/x-python",
   "name": "python",
   "nbconvert_exporter": "python",
   "pygments_lexer": "ipython3",
   "version": "3.10.9"
  }
 },
 "nbformat": 4,
 "nbformat_minor": 5
}
